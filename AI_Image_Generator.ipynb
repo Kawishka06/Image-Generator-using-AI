{
  "nbformat": 4,
  "nbformat_minor": 0,
  "metadata": {
    "colab": {
      "provenance": [],
      "gpuType": "T4"
    },
    "kernelspec": {
      "name": "python3",
      "display_name": "Python 3"
    },
    "language_info": {
      "name": "python"
    },
    "accelerator": "GPU"
  },
  "cells": [
    {
      "cell_type": "markdown",
      "source": [],
      "metadata": {
        "id": "hTiUYIlvaPyR"
      }
    },
    {
      "cell_type": "code",
      "execution_count": null,
      "metadata": {
        "id": "vO_Vyd5vOnWr"
      },
      "outputs": [],
      "source": [
        "!pip install --upgrade diffusers transformers accelerate torch bitsandbytes scipy safetensors xformers"
      ]
    },
    {
      "cell_type": "code",
      "source": [
        "import torch\n",
        "from diffusers import StableDiffusionPipeline, DPMSolverMultistepScheduler\n",
        "import matplotlib.pyplot as plt\n",
        "\n",
        "torch.cuda.empty_cache()\n",
        "model_id = \"stabilityai/stable-diffusion-2-1\"\n",
        "\n",
        "pipe = StableDiffusionPipeline.from_pretrained(model_id, torch_dtype=torch.float16)\n",
        "pipe.scheduler = DPMSolverMultistepScheduler.from_config(pipe.scheduler.config)\n",
        "pipe = pipe.to(\"cuda\")\n",
        "\n",
        "prompt = \"a house in front of the ocean\"\n",
        "image = pipe(prompt, width=1000, height=1000).images[0]\n",
        "\n",
        "plt.imshow(image)\n",
        "plt.axis('off')  # Turn off axis numbers and ticks\n",
        "plt.show()"
      ],
      "metadata": {
        "id": "OX_P872cQ9b8"
      },
      "execution_count": null,
      "outputs": []
    }
  ]
}